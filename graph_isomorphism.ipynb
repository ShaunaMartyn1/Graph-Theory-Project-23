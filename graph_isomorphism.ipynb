{
 "cells": [
  {
   "attachments": {},
   "cell_type": "markdown",
   "metadata": {},
   "source": [
    "# Graph isomorphism problem\n",
    "***\n",
    "The graph isomorphism problem is the computational problem of determining whether two finite graphs are isomorphic.\n",
    "It asks whether there exists a bijection between the vertices of the two graphs that preserve edges, so that there is a one-to-one correspondence between the edges of the first graph and those of the second. The problem is considered to be computationally difficult and is not known to be solvable in polynomial time."
   ]
  },
  {
   "cell_type": "code",
   "execution_count": 1,
   "metadata": {},
   "outputs": [
    {
     "name": "stdout",
     "output_type": "stream",
     "text": [
      "Hello world\n"
     ]
    }
   ],
   "source": [
    "msg = \"Hello world\"\n",
    "print(msg)"
   ]
  },
  {
   "cell_type": "code",
   "execution_count": null,
   "metadata": {},
   "outputs": [],
   "source": []
  }
 ],
 "metadata": {
  "kernelspec": {
   "display_name": "Python 3 (ipykernel)",
   "language": "python",
   "name": "python3"
  },
  "language_info": {
   "codemirror_mode": {
    "name": "ipython",
    "version": 3
   },
   "file_extension": ".py",
   "mimetype": "text/x-python",
   "name": "python",
   "nbconvert_exporter": "python",
   "pygments_lexer": "ipython3",
   "version": "3.9.13"
  },
  "vscode": {
   "interpreter": {
    "hash": "371d6667086cfa564ade64a66ea32fd14e0edbe0cd9d013d75417fb1c365b71d"
   }
  }
 },
 "nbformat": 4,
 "nbformat_minor": 2
}
