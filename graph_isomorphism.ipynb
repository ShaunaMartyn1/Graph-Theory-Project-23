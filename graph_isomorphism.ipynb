{
 "cells": [
  {
   "cell_type": "markdown",
   "metadata": {},
   "source": [
    "# Graph isomorphism problem\n",
    "***\n",
    "The graph isomorphism problem is the computational problem of determining whether two finite graphs are isomorphic.\n",
    "It asks whether there exists a bijection between the vertices of the two graphs that preserve edges, so that there is a one-to-one correspondence between the edges of the first graph and those of the second. The problem is considered to be computationally difficult and is not known to be solvable in polynomial time.\n",
    "\n",
    "Graph isomorphism problem is a question of determining whether two graphs are equivalent, meaning they have the same structure rather than a specific algorithm to be executed. \n",
    "There are many algorithms and methods that have been developed to solve the Graph isomorphism problem ranging from mathematical and theoretical approaches to practical computational methods. These include backtracking, canonical labelling, group theory, neural networks, and randomised algorithms. \n",
    "Backtracking is a general algorithmic technique that considers searching every possible combination to solve a computational problem. It can find all or some solutions to the problem by trying out a potential candidate and backtracking as soon as it is found that the candidate will not work as a valid solution. A real-life example of backtracking would be the game sudoku. The player tried out a number and if it does not work, they backtrack and try another number. Backtracking can be seen as a type of depth-first search. \n",
    "Backtracking is a form of recursion; recursion is a function that can call itself. \n",
    "There are 3 types of problems in backtracking, Decision problem, Optimization problem and Enumeration problem. In Decision problem we search for a feasible solution, Optimization problem we search for the best solution and Enumeration problem we find all feasible solutions. \n"
   ]
  },
  {
   "cell_type": "code",
   "execution_count": 1,
   "metadata": {},
   "outputs": [
    {
     "name": "stdout",
     "output_type": "stream",
     "text": [
      "Hello world\n"
     ]
    }
   ],
   "source": [
    "msg = \"Hello world\"\n",
    "print(msg)"
   ]
  },
  {
   "cell_type": "code",
   "execution_count": null,
   "metadata": {},
   "outputs": [],
   "source": []
  }
 ],
 "metadata": {
  "kernelspec": {
   "display_name": "Python 3 (ipykernel)",
   "language": "python",
   "name": "python3"
  },
  "language_info": {
   "codemirror_mode": {
    "name": "ipython",
    "version": 3
   },
   "file_extension": ".py",
   "mimetype": "text/x-python",
   "name": "python",
   "nbconvert_exporter": "python",
   "pygments_lexer": "ipython3",
   "version": "3.9.13"
  },
  "vscode": {
   "interpreter": {
    "hash": "371d6667086cfa564ade64a66ea32fd14e0edbe0cd9d013d75417fb1c365b71d"
   }
  }
 },
 "nbformat": 4,
 "nbformat_minor": 2
}
