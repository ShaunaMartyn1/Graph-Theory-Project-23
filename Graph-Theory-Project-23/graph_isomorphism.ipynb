{
 "cells": [
  {
   "cell_type": "markdown",
   "metadata": {},
   "source": [
    "# Graph isomorphism problem\n",
    "***\n",
    "The graph isomorphism problem is the computational problem of determining whether two finite graphs are isomorphic.\n",
    "It asks whether there exists a bijection between the vertices of the two graphs that preserve edges, so that there is a one-to-one correspondence between the edges of the first graph and those of the second. The problem is considered to be computationally difficult and is not known to be solvable in polynomial time.\n",
    "\n",
    "Graph isomorphism problem is a question of determining whether two graphs are equivalent, meaning they have the same structure rather than a specific algorithm to be executed. \n",
    "There are many algorithms and methods that have been developed to solve the Graph isomorphism problem ranging from mathematical and theoretical approaches to practical computational methods. These include backtracking, canonical labelling, group theory, neural networks, and randomised algorithms. \n",
    "Backtracking is a general algorithmic technique that considers searching every possible combination to solve a computational problem. It can find all or some solutions to the problem by trying out a potential candidate and backtracking as soon as it is found that the candidate will not work as a valid solution. A real-life example of backtracking would be the game sudoku. The player tried out a number and if it does not work, they backtrack and try another number. Backtracking can be seen as a type of depth-first search. \n",
    "Backtracking is a form of recursion; recursion is a function that can call itself. \n",
    "There are 3 types of problems in backtracking, Decision problem, Optimization problem and Enumeration problem. In Decision problem we search for a feasible solution, Optimization problem we search for the best solution and Enumeration problem we find all feasible solutions. \n"
   ]
  },
  {
   "attachments": {},
   "cell_type": "markdown",
   "metadata": {},
   "source": [
    "### Canonical Labelling\n",
    "Canonical labelling also known as canonical form, is a graph which is isomorphic which represents the isomorphism class of (Piperno 2011). The complexity class of canonical labelling is not known. \n",
    "\n",
    "A standard method for handling the graph isomorphism issue is to map each graph to a specific string representation called a code or canonical label. A canonical label has a property that if two graphs are isomorphic their codes should be equal. By using this property testing for graph isomorphism is possible by analysing the canonical labels of the two graphs. The first part of creating a canonical label of a graph is to find an adjacency matrix for the graph. The second step is to decide on the string description for each adjacency matrix. The adjacency matrix is symmetric it is best to produce the string description depending on the upper triangular part of the matrix. The code is acquired by linking the entries of the upper triangular matric in a column-wise fashion. The final step is to correlate all the string descriptions of the graph and select the one that has the lowest or highest value."
   ]
  },
  {
   "attachments": {},
   "cell_type": "markdown",
   "metadata": {},
   "source": [
    "### Randomised Algorithms\n",
    "Randomised algorithms have been studied for the graph isomorphism problem and they have successfully provided solutions for some types of graphs. One of the most famous randomised algorithms for graph isomorphism is the Las Vegas algorithm by Laszlo Babai which was published in 2015.\n",
    "The Las Vegas algorithm uses “canonical Labelling” to check if two graphs are equal. This is done by comparing the two graphs canonical forms that are determined by their connectivity structure and then comparing them again to see if they are isomorphic. The algorithm works by using randomisation to generate the canonical forms. The algorithms then run in polynomial time with a high probability. This algorithm does not guarantee correctness; however, the error probability can be made much smaller by repeating the algorithm several times. Although the Las Vegas algorithm represents a significant breakthrough in the study of graph isomorphism it is still relatively new and further research and is needed to fully understand its performance and limitations.  \n",
    "\n"
   ]
  },
  {
   "attachments": {},
   "cell_type": "markdown",
   "metadata": {},
   "source": [
    "### Neural Networks\n",
    "Neural networks have become a popular tool for analysing and processing data in graph theory. They are a computational model inspired by the structure and function of the human brain. There are several ways that neural networks can be used in graph theory these include graph classification, graph clustering, node classification, link prediction and graph generation. Graph classification where neural networks can be used to classify graphs into categories based on their structure or properties. Graph clustering involves clustering similar graphs together by doing this patterns or trends can be identified. In node classification nodes on a graph can classified by their properties or features. Link predication can be used to predict if there is a link or edge between two nodes on a graph. Graph generation can be used to generate new graphs that have similar properties to a set of given graphs. This is useful in generating synthetic datasets for testing graph algorithms. \n"
   ]
  },
  {
   "attachments": {},
   "cell_type": "markdown",
   "metadata": {},
   "source": [
    "### Cryptography\n",
    "\n",
    "In cryptography graph isomorphism can be used as a tool for sending secure encryption schemes and authentication protocols. On of the main applications of graph isomorphism in cryptography is the design of key exchange protocols. In key exchange protocols two parties want to establish a shared secret key that can be used for secure communication. They exchange some information and based on this formation they both compute the same key. Graph isomorphism can be used to ensure that the information exchanged cannot be intercepted or modified by an attacker.\n",
    "Another use for graph isomorphism in cryptography is the design of secure authentication protocols. In an authentication protocol one party wants to prove their identity to another. They can use graph isomorphism to design a challenged response protocol where they both exchange graphs and the identity if the first party is verified if the graphs are isomorphic. \n",
    "It is important to note that graph isomorphism is not a one-way function, which means that it is not easy to compute isomorphism between two graphs in both directions. Therefore, graph isomorphism is not suitable for use in cryptographic has functions or digital signatures, where one-way functions are required. \n"
   ]
  },
  {
   "attachments": {},
   "cell_type": "markdown",
   "metadata": {},
   "source": [
    "### Hash Functions\n",
    "Hash functions are used to map data to a fixed size value, typically a number or a string. While hash functions are not designed to solve graph isomorphism directly, they can be used to facilitate solving the problem by reducing the time complexity of the solution. \n",
    "One approach to using hash functions for graph isomorphism involved creating a hash value for each graph and then comparing the hash values. If two graphs have the same hash value, it is highly likely that they are isomorphic. However, if two graphs have different hash values, it does not necessarily mean that they are not isomorphic. This approach can reduce the number of graph comparisons requires but it does not guarantee correctness in all cases. \n",
    "Another approach is to use a hash function to create a canonical representation of each graph, which captures its structural properties in a unique way. Two graphs are isomorphic if and only if their canonical representations are identical. By comparing the canonical representation, we can determine whether two graphs are isomorphic or not with certainty. This approach has been used in several graph isomorphism algorithms, including the Nauty algorithm. Overall while hash functions are not direct solutions to the graph isomorphism problem, they can be a useful tool in reducing the time complexity of the problem by facilitating its solution.\n",
    "The Nauty algorithm is a software tool for computing automorphism groups and canonical forms of graphs and combinational objects. It was developed by Brendan McKay in the 1980s and has since become a standard tool in the field of graph theory. \n",
    "The Nauty algorithm works by exploring the symmetry group of the object using a backtracking search and using a variety of ways to beak down the search and avoid redundant computations. The core of the algorithm involves generating and testing automorphism of the object, using a combination of efficient data structures and algorithms. It is widely regarded as one of the most powerful and efficient tools for analysing the symmetries of combinatorial structures. \n"
   ]
  }
 ],
 "metadata": {
  "kernelspec": {
   "display_name": "Python 3 (ipykernel)",
   "language": "python",
   "name": "python3"
  },
  "language_info": {
   "codemirror_mode": {
    "name": "ipython",
    "version": 3
   },
   "file_extension": ".py",
   "mimetype": "text/x-python",
   "name": "python",
   "nbconvert_exporter": "python",
   "pygments_lexer": "ipython3",
   "version": "3.9.13"
  },
  "vscode": {
   "interpreter": {
    "hash": "371d6667086cfa564ade64a66ea32fd14e0edbe0cd9d013d75417fb1c365b71d"
   }
  }
 },
 "nbformat": 4,
 "nbformat_minor": 2
}
