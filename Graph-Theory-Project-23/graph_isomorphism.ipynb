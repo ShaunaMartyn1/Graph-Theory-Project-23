{
 "cells": [
  {
   "attachments": {},
   "cell_type": "markdown",
   "metadata": {},
   "source": [
    "# Graph Isomorphism Problem\n",
    "***\n",
    "The graph isomorphism problem is the computational problem of determining whether two finite graphs are isomorphic.\n",
    "It asks whether there exists a bijection between the vertices of the two graphs that preserve edges, so that there is a one-to-one correspondence between the edges of the first graph and those of the second. The problem is considered to be computationally difficult and is not known to be solvable in polynomial time.\n",
    "\n",
    "Graph isomorphism problem is a question of determining whether two graphs are equivalent, meaning they have the same structure rather than a specific algorithm to be executed. \n",
    "There are many algorithms and methods that have been developed to solve the Graph isomorphism problem ranging from mathematical and theoretical approaches to practical computational methods. These include backtracking, canonical labelling, group theory, neural networks, and randomised algorithms. \n",
    "Backtracking is a general algorithmic technique that considers searching every possible combination to solve a computational problem. It can find all or some solutions to the problem by trying out a potential candidate and backtracking as soon as it is found that the candidate will not work as a valid solution. A real-life example of backtracking would be the game sudoku. The player tried out a number and if it does not work, they backtrack and try another number. Backtracking can be seen as a type of depth-first search. \n",
    "Backtracking is a form of recursion; recursion is a function that can call itself. \n",
    "There are 3 types of problems in backtracking, Decision problem, Optimization problem and Enumeration problem. In Decision problem we search for a feasible solution, Optimization problem we search for the best solution and Enumeration problem we find all feasible solutions. \n",
    "\n",
    "Isomorphic graphs may have the same structure, but the vertex labels may be different. \n",
    "In both cases there are four vertices and four edges. The vertices in the first graph are labelled 1,2,3 and 4 while the vertices in the second graph are labelled A, B, C and D. Despite the labels the graphs have the same structure. Vertices 1 and A are adjacent to vertices 2 and B, vertices 2 and B are adjacent to vertices 3 and C and vertices 3 and C are adjacent to vertices 4 and D. By examining the graphs, it is safe to say they are isomorphic. \n",
    "\n",
    "1---2 \t\t\n",
    "|   |\t\t\n",
    "3---4\t\tGraph 1 \n",
    "\n",
    "A---B\n",
    "|   |\n",
    "C---D       Graph 2\n",
    "\n",
    "An example of isomorphic graphs \n",
    "\n",
    "![Alt text](images/graphs.PNG)\n",
    "\n"
   ]
  },
  {
   "attachments": {},
   "cell_type": "markdown",
   "metadata": {},
   "source": [
    "### Canonical Labelling\n",
    "Canonical labelling also known as canonical form, is a graph which is isomorphic which represents the isomorphism class of (Piperno 2011). The complexity class of canonical labelling is not known. \n",
    "\n",
    "A standard method for handling the graph isomorphism issue is to map each graph to a specific string representation called a code or canonical label. A canonical label has a property that if two graphs are isomorphic their codes should be equal. By using this property testing for graph isomorphism is possible by analysing the canonical labels of the two graphs. The first part of creating a canonical label of a graph is to find an adjacency matrix for the graph. The second step is to decide on the string description for each adjacency matrix. The adjacency matrix is symmetric it is best to produce the string description depending on the upper triangular part of the matrix. The code is acquired by linking the entries of the upper triangular matric in a column-wise fashion. The final step is to correlate all the string descriptions of the graph and select the one that has the lowest or highest value.\n",
    "\n",
    "![Alt text](images/canonicalLabel.png)"
   ]
  },
  {
   "attachments": {},
   "cell_type": "markdown",
   "metadata": {},
   "source": [
    "### Randomised Algorithms\n",
    "Randomised algorithms have been studied for the graph isomorphism problem and they have successfully provided solutions for some types of graphs. One of the most famous randomised algorithms for graph isomorphism is the Las Vegas algorithm by Laszlo Babai which was published in 2015.\n",
    "The Las Vegas algorithm uses “canonical Labelling” to check if two graphs are equal. This is done by comparing the two graphs canonical forms that are determined by their connectivity structure and then comparing them again to see if they are isomorphic. The algorithm works by using randomisation to generate the canonical forms. The algorithms then run in polynomial time with a high probability. This algorithm does not guarantee correctness however, the error probability can be made much smaller by repeating the algorithm several times. Although the Las Vegas algorithm represents a significant breakthrough in the study of graph isomorphism it is still relatively new and further research and is needed to fully understand its performance and limitations.  \n"
   ]
  },
  {
   "cell_type": "code",
   "execution_count": 1,
   "metadata": {},
   "outputs": [],
   "source": [
    "import random\n",
    "#las Vegas \n",
    "def is_isomorphic(graph1, graph2):\n",
    "    \"\"\"\n",
    "    Returns True if graph1 and graph2 are isomorphic, False otherwise.\n",
    "    \"\"\"\n",
    "    if len(graph1) != len(graph2):\n",
    "        return False\n",
    "    \n",
    "    vertices1 = list(graph1.keys())\n",
    "    random.shuffle(vertices1)\n",
    "    \n",
    "    while vertices1:\n",
    "        # Choose a random vertex from graph1\n",
    "        v1 = vertices1.pop()\n",
    "        # Find the corresponding vertex in graph2\n",
    "        candidates = [v2 for v2 in graph2.keys() if len(graph2[v2]) == len(graph1[v1])]\n",
    "        if not candidates:\n",
    "            return False\n",
    "        v2 = random.choice(candidates)\n",
    "        \n",
    "        # Check if v1 and v2 are connected to the same vertices\n",
    "        connected1 = sorted([graph1[v1][u1] for u1 in graph1[v1]])\n",
    "        connected2 = sorted([graph2[v2][u2] for u2 in graph2[v2]])\n",
    "        if connected1 != connected2:\n",
    "            return False\n",
    "    \n",
    "        # Remove v2 from graph2 and all vertices connected to it\n",
    "        for u2 in graph2[v2]:\n",
    "            graph2[u2].remove(v2)\n",
    "            if not graph2[u2]:\n",
    "                del graph2[u2]\n",
    "        del graph2[v2]\n",
    "    \n",
    "    return True"
   ]
  },
  {
   "attachments": {},
   "cell_type": "markdown",
   "metadata": {},
   "source": [
    "### The Weisfeiler-Lehman Algorithm\n",
    "The Weisfeiler-Lehman Algorithm is an algorithm that uses the iterative refinement of vertex labels to test isomorphism. With each iteration the algoorithm updates the labels of each vertex based on its own label and the labels next to it. The algorithm stops when the labels ate stablaised or a certain number of iterations is reached. \n",
    "\n",
    "The example below takes in binary adjacency matrix representing the graph and returns a dictionary mapping each node to its corresponding label after each iteration of the algorithm. It initialises all node labels to 1. The each iteration it goes through it adds a new label for each node based on the labels next to it (its neighbours) and its current label. The new label is computed by concatenating the current label with sorted list of labels next to it and the hashing the resulting string. If the new labels are the same as the old labels the algorithm terminates and returns the final labels. "
   ]
  },
  {
   "cell_type": "code",
   "execution_count": 14,
   "metadata": {},
   "outputs": [],
   "source": [
    "import numpy as np\n",
    "\n",
    "def weisfeiler_lehman(graph):\n",
    "    \"\"\"\n",
    "    Applies the Weisfeiler-Lehman algorithm to a given graph.\n",
    "    Args:\n",
    "        graph (np.ndarray): A binary adjacency matrix representing the graph.\n",
    "    Returns:\n",
    "        dict: A dictionary mapping each node to its corresponding label after each iteration.\n",
    "    \"\"\"\n",
    "    node_labels = {i: 1 for i in range(graph.shape[0])}  # Initialize all node labels to 1\n",
    "    while True:\n",
    "        new_labels = {}\n",
    "        for i in range(graph.shape[0]):\n",
    "            neighbours = np.nonzero(graph[i])[0]  # Find the indices of the neighbours of node i\n",
    "            neighbour_labels = sorted([node_labels[n] for n in neighbours])  # Sort the labels of the neighbours\n",
    "            label = str(node_labels[i]) + ''.join([str(neighbour_labels[j]) for j in range(len(neighbours))])\n",
    "            new_labels[i] = hash(label)  # Compute the hash of the label and use it as the new label for node i\n",
    "        if new_labels == node_labels:\n",
    "            break\n",
    "        node_labels = new_labels\n",
    "    return node_labels\n"
   ]
  },
  {
   "attachments": {},
   "cell_type": "markdown",
   "metadata": {},
   "source": [
    "### The Ransomised Switching Algorithm\n",
    "Ransomised Switching Algorithm is an algorithm that works by randomly swapping the adjacency matrices of the two input graphs and checking if the resulting graphs are isomorphic. This algorithm has been shown to run in polynomial time. \n",
    "\n",
    "In the example below the function takes in a binary adjacency matrix representing the graph and the number of iterations to run the algorithm. It returns a binary adjacency matrix representing the randomised graph. This algorithm works by randomly choosing two distinct nodes i and j and two others k and l. If the edges of (i, j) or (k, l) already exist or if either of the nodes has nothing next to it (neigbours) then the algorithm skips the current iteration. Otherwise it swaps the edges (i,k) and (j,l) to create the new edges (i, l) and (j, k). This process is repeated for the specified number of iterations and return a graph.  "
   ]
  },
  {
   "cell_type": "code",
   "execution_count": 25,
   "metadata": {},
   "outputs": [],
   "source": [
    "import numpy as np\n",
    "\n",
    "def randomised_switching(graph, n_iterations):\n",
    "    \"\"\"\n",
    "    Applies the Randomised Switching algorithm to a given graph.\n",
    "    Args:\n",
    "        graph (np.ndarray): A binary adjacency matrix representing the graph.\n",
    "        n_iterations (int): The number of iterations to run the algorithm.\n",
    "    Returns:\n",
    "        np.ndarray: A binary adjacency matrix representing the randomised graph.\n",
    "    \"\"\"\n",
    "    n_nodes = graph.shape[0]\n",
    "    randomised_graph = np.copy(graph)\n",
    "    for _ in range(n_iterations):\n",
    "        i, j = np.random.choice(n_nodes, size=2, replace=False)  # Choose two distinct nodes at random\n",
    "        if randomised_graph[i, j] == 1 or randomised_graph[j, i] == 1:\n",
    "            continue  # Skip this iteration if the edge already exists\n",
    "        neighbours_i = np.nonzero(randomised_graph[i])[0]  # Find the indices of the neighbours of node i\n",
    "        neighbours_j = np.nonzero(randomised_graph[j])[0]  # Find the indices of the neighbours of node j\n",
    "        if len(neighbours_i) == 0 or len(neighbours_j) == 0:\n",
    "            continue  # Skip this iteration if either node has no neighbours\n",
    "        k = np.random.choice(neighbours_i)  # Choose a neighbour of i at random\n",
    "        l = np.random.choice(neighbours_j)  # Choose a neighbour of j at random\n",
    "        if randomised_graph[k, l] == 1 or randomised_graph[l, k] == 1:\n",
    "            continue  # Skip this iteration if the edge already exists\n",
    "        # Swap the edges (i, k) and (j, l)\n",
    "        randomised_graph[i, k] = 0\n",
    "        randomised_graph[k, i] = 0\n",
    "        randomised_graph[j, l] = 0\n",
    "        randomised_graph[l, j] = 0\n",
    "        randomised_graph[i, l] = 1\n",
    "        randomised_graph[l, i] = 1\n",
    "        randomised_graph[j, k] = 1\n",
    "        randomised_graph[k, j] = 1\n",
    "    return randomised_graph\n"
   ]
  },
  {
   "attachments": {},
   "cell_type": "markdown",
   "metadata": {},
   "source": [
    "### The Monte Carlo Algorithm \n",
    "The Monte Carol algorithm is an algorithm that randomly samlples a subset of the vertices from each graph and checks that they use the same subgraph. The Monte Carlo algorithm is probabilistic which means it may return a false positive but the probability of such an error can be made much smaller by increasing the number of samples. "
   ]
  },
  {
   "attachments": {},
   "cell_type": "markdown",
   "metadata": {},
   "source": [
    "### Neural Networks\n",
    "Neural networks have become a popular tool for analysing and processing data in graph theory. They are a computational model inspired by the structure and function of the human brain. There are several ways that neural networks can be used in graph theory these include graph classification, graph clustering, node classification, link prediction and graph generation. Graph classification where neural networks can be used to classify graphs into categories based on their structure or properties. Graph clustering involves clustering similar graphs together by doing this patterns or trends can be identified. In node classification nodes on a graph can classified by their properties or features. Link predication can be used to predict if there is a link or edge between two nodes on a graph. Graph generation can be used to generate new graphs that have similar properties to a set of given graphs. This is useful in generating synthetic datasets for testing graph algorithms. \n"
   ]
  },
  {
   "attachments": {},
   "cell_type": "markdown",
   "metadata": {},
   "source": [
    "### Cryptography\n",
    "\n",
    "In cryptography graph isomorphism can be used as a tool for sending secure encryption schemes and authentication protocols. On of the main applications of graph isomorphism in cryptography is the design of key exchange protocols. In key exchange protocols two parties want to establish a shared secret key that can be used for secure communication. They exchange some information and based on this formation they both compute the same key. Graph isomorphism can be used to ensure that the information exchanged cannot be intercepted or modified by an attacker.\n",
    "Another use for graph isomorphism in cryptography is the design of secure authentication protocols. In an authentication protocol one party wants to prove their identity to another. They can use graph isomorphism to design a challenged response protocol where they both exchange graphs and the identity if the first party is verified if the graphs are isomorphic. \n",
    "It is important to note that graph isomorphism is not a one-way function, which means that it is not easy to compute isomorphism between two graphs in both directions. Therefore, graph isomorphism is not suitable for use in cryptographic hash functions or digital signatures, where one-way functions are required. \n"
   ]
  },
  {
   "attachments": {},
   "cell_type": "markdown",
   "metadata": {},
   "source": [
    "### McElise cryptosystem in graph isomorphism\n",
    "In the example below the McEliece cryptosystem is used. The public key is a random bipartite graph and the private key is a permutation matrix that encodes the isomorphism between the graph and a random one. \n",
    "The code below generates a random n by m adjacency matrix for a bipartite graph. Each entry in the matrix is either 0 or 1 with equal probability indicating the absence or presence of an edge between the corresponding vertices. "
   ]
  },
  {
   "cell_type": "code",
   "execution_count": 26,
   "metadata": {},
   "outputs": [],
   "source": [
    "import numpy as np\n",
    "\n",
    "def generate_random_bipartite_graph(n, m):\n",
    "    \"\"\"Generate a random bipartite graph with n vertices on one side and m vertices on the other side.\"\"\"\n",
    "    adjacency_matrix = np.zeros((n, m), dtype=int)\n",
    "    for i in range(n):\n",
    "        for j in range(m):\n",
    "            adjacency_matrix[i, j] = np.random.randint(0, 2)\n",
    "    return adjacency_matrix\n"
   ]
  },
  {
   "attachments": {},
   "cell_type": "markdown",
   "metadata": {},
   "source": [
    "### Hash Functions\n",
    "Hash functions are used to map data to a fixed size value, typically a number or a string. While hash functions are not designed to solve graph isomorphism directly, they can be used to facilitate solving the problem by reducing the time complexity of the solution. \n",
    "One approach to using hash functions for graph isomorphism involved creating a hash value for each graph and then comparing the hash values. If two graphs have the same hash value, it is highly likely that they are isomorphic. However, if two graphs have different hash values, it does not necessarily mean that they are not isomorphic. This approach can reduce the number of graph comparisons required but it does not guarantee correctness in all cases. \n",
    "Another approach is to use a hash function to create a canonical representation of each graph, which captures its structural properties in a unique way. Two graphs are isomorphic if and only if their canonical representations are identical. By comparing the canonical representation, it can determine whether two graphs are isomorphic or not with certainty. This approach has been used in several graph isomorphism algorithms, including the Nauty algorithm. Although hash functions are not direct solutions to the graph isomorphism problem, they can be a useful tool in reducing the time complexity of the problem by facilitating its solution.\n",
    "\n"
   ]
  },
  {
   "attachments": {},
   "cell_type": "markdown",
   "metadata": {},
   "source": [
    "### Nauty Algorithm \n",
    "The Nauty algorithm is a software tool for computing automorphism groups and canonical forms of graphs and combinational objects. It was developed by Brendan McKay in the 1980s and has since become a standard tool in the field of graph theory. \n",
    "The Nauty algorithm works by exploring the symmetry group of the object using a backtracking search and using a variety of ways to beak down the search and avoid redundant computations. The core of the algorithm involves generating and testing automorphism of the object, using a combination of efficient data structures and algorithms. It is widely regarded as one of the most powerful and efficient tools for analysing the symmetries of combinatorial structures. "
   ]
  },
  {
   "attachments": {},
   "cell_type": "markdown",
   "metadata": {},
   "source": [
    "### Python \n",
    "Graph libraries such as NumPy and NetworkX can be imported into python and be used to see of two graphs are isomorphic. \n",
    "In this example the two sample graphs G1 and G2 using the NetworkX library. The nx.is_isomorphic() function is used to check if the graphs are isomorphic. If the graphs are isomorphic, the function will return True, if not it will return false and print the result.  \n",
    "\n"
   ]
  },
  {
   "cell_type": "code",
   "execution_count": 27,
   "metadata": {},
   "outputs": [
    {
     "name": "stdout",
     "output_type": "stream",
     "text": [
      "The graphs are isomorphic.\n"
     ]
    }
   ],
   "source": [
    "import networkx as nx\n",
    "# Define two sample graphs\n",
    "G1 = nx.Graph([(0,1),(1,2),(2,3)])\n",
    "G2 = nx.Graph([(0,1),(1,3),(3,2)])\n",
    "# Check if the graphs are isomorphic\n",
    "is_isomorphic = nx.is_isomorphic(G1, G2)\n",
    "# Print the result\n",
    "if is_isomorphic:\n",
    "    print(\"The graphs are isomorphic.\")\n",
    "else:\n",
    "    print(\"The graphs are not isomorphic.\")\n"
   ]
  },
  {
   "attachments": {},
   "cell_type": "markdown",
   "metadata": {},
   "source": [
    "Another method to check whether two graphs are isomorphic is to check their edges. In this simple example the add_edges_from() method is used. The method works by taking an iterable container of the edges and adds them to the graph. "
   ]
  },
  {
   "cell_type": "code",
   "execution_count": 28,
   "metadata": {},
   "outputs": [
    {
     "name": "stdout",
     "output_type": "stream",
     "text": [
      "The graphs are not isomorphic.\n"
     ]
    }
   ],
   "source": [
    "import networkx as nx\n",
    "# Create the first graph\n",
    "G1 = nx.Graph()\n",
    "G1.add_edges_from([(0, 1), (1, 2), (2, 0), (2, 3)])\n",
    "\n",
    "# Create the second graph\n",
    "G2 = nx.Graph()\n",
    "G2.add_edges_from([(3, 1), (1, 0), (0, 2), (2, 3)])\n",
    "# Check if the graphs are isomorphic\n",
    "if nx.is_isomorphic(G1, G2):\n",
    "    print(\"The graphs are isomorphic.\")\n",
    "else:\n",
    "    print(\"The graphs are not isomorphic.\")\n"
   ]
  },
  {
   "attachments": {},
   "cell_type": "markdown",
   "metadata": {},
   "source": [
    "In this code an empty graph is created using nx.Graph() constructor.The edges are the added to the graph using the add_edges_from() method. The method takes an iterable container, like the graph above, which is a list of tuples representing the edges. Then the nodes and edges are printed using nodes() and edges() methods. The output shows that the graph has four nodes and four edges. "
   ]
  },
  {
   "cell_type": "code",
   "execution_count": 29,
   "metadata": {},
   "outputs": [
    {
     "name": "stdout",
     "output_type": "stream",
     "text": [
      "[0, 1, 2, 3]\n",
      "[(0, 1), (0, 3), (1, 2), (2, 3)]\n"
     ]
    }
   ],
   "source": [
    "import networkx as nx\n",
    "# Create an empty graph\n",
    "G = nx.Graph()\n",
    "# Add edges to the graph using add_edges_from() method\n",
    "G.add_edges_from([(0, 1), (1, 2), (2, 3), (3, 0)])\n",
    "# Print the graph\n",
    "print(G.nodes())  # output: [0, 1, 2, 3]\n",
    "print(G.edges())  # output: [(0, 1), (0, 3), (1, 2), (2, 3)]\n"
   ]
  },
  {
   "attachments": {},
   "cell_type": "markdown",
   "metadata": {},
   "source": [
    "### Conclusion\n",
    "In conclusion, graph isomorphism is an interesting and important concept in graph theory. It is an essential problem that has been studied for decades and although it is not complete there has been siginficant progress in developing algorithms for solving it. Graph isomorphism is relevant in other areas of computer science such as social network analysis, cryptography and network analysis. The development of efficient algorithms for solving graph isomorphism has the potential to revolutionise these fields by providing a powerful tool for analysing and interpreting large datasets. Overall graph isomorphism is a captavating topic with far reaching implications and will continue to be an attractive subject to research in years to come. "
   ]
  },
  {
   "attachments": {},
   "cell_type": "markdown",
   "metadata": {},
   "source": [
    "### References\n",
    "\n",
    " - Tutorials Point. (2023). Python - Backtracking. [Online]. www.tutorialspoint.com. Last Updated: 2023. Available at: https://www.tutorialspoint.com/python_data_structure/python_backtracking.htm#:~:text=Backtracking%20 [Accessed 8 February 2023].\n",
    "\n",
    " - Geeksforgeeks. (2023). Backtracking Algorithms. [Online]. Geeksforgeeks. Last Updated: 21 Mar, 2023. Available at: https://www.geeksforgeeks.org/backtracking-algorithms/ [Accessed 8 February 2023].\n",
    "\n",
    " - Medium. (2018). In-depth Backtracking with LeetCode Problems — Part 1. [Online]. medium.com. Last Updated: 21 March 2018. Available at: https://medium.com/algorithms-and-leetcode/backtracking-e001561b9f28 [Accessed 8 February 2023].\n",
    "\n",
    " - Wolfram Mathworld. (2011). Canonical Labeling. [Online]. mathworld.wolfram.com. Last Updated: 2011. Available at: https://mathworld.wolfram.com/CanonicalLabeling.html [Accessed 15 February 2023].\n",
    "\n",
    " -  Quora. (2021). interesting links between graph theory and artificial neural networks. [Online]. Quora. Last Updated: 2021. Available at: https://www.quora.com/What-are-some-interesting-links-between-graph-theory-and-artificial-neural-net [Accessed 15 February 2023].\n",
    "\n",
    " - Babai, L. (2023). Monte-Carlo algorithms in graph isomorphism testing. [Online]. people.cs.uchicago. Last Updated: 2023. Available at: https://people.cs.uchicago.edu/~laci/lasvegas79.pdf [Accessed 22 February 2023].\n",
    "\n",
    " - Gregersen, E. (2022). Group Theory. [Online]. britannica.com. Last Updated: 22 October 2022. Available at: https://www.britannica.com/biography/Georg-Frobenius [Accessed 22 February 2023].\n",
    "\n",
    " - Ginni. (2022). What is the canonical label?. [Online]. tutorialspoint.com. Last Updated: 11 February 2022. Available at: https://www.tutorialspoint.com/what-is-the-canonical-label [Accessed 1 March 2023].\n",
    "\n",
    " - Network X. (2022). Isomorphism. [Online]. networkX.org. Last Updated: 2022. Available at: https://networkx.org/documentation/stable/reference/algorithms/isomorphism.html [Accessed 15 March 2023].\n",
    "\n",
    " - Toledo, T. (2022). Testing if 2 graphs are isomorphic. [Online]. towardsdatascience.com. Last Updated: 15 June 2022. Available at: https://towardsdatascience.com/testing-if-two-graphs-are-isomorphic-cf6c44ab551e [Accessed 16 March 2023].\n",
    "\n",
    " - Babai, L. (1980). Isomorphism Testing and Symmetry of Graphs. [Online]. sciencedirect.com. Last Updated: 2023. Available at: https://www.sciencedirect.com/science/article/abs/pii/S0167506008708574 [Accessed 30 March 2023]. \n",
    " \n",
    " - Babai, L. (2022). Canonical labelling in nauty (McKay). [Online]. math.stackexchange. Last Updated: 2022. Available at: https://math.stackexchange.com/questions/4315998/canonical-labelling-in-nauty-mckay [Accessed 30 March 2023].\n",
    "\n",
    " - Ninghuang, H. (2022). A Short Tutorial on The Weisfeiler-Lehman Test And Its Variants. [Online]. arxiv.org. Last Updated: 1 November 2022. Available at: https://arxiv.org/abs/2201.07083 [Accessed 30 March 2023].\n",
    " \n",
    " - Bieber, D. (2022). The Weisfeiler-Lehman Isomorphism Test. [Online]. davidbieber.com. Last Updated: 2022. Available at: https://davidbieber.com/post/2019-05-10-weisfeiler-lehman-isomorphism-test/ [Accessed 30 March 2023]. \n",
    " \n",
    " \n"
   ]
  }
 ],
 "metadata": {
  "kernelspec": {
   "display_name": "Python 3 (ipykernel)",
   "language": "python",
   "name": "python3"
  },
  "language_info": {
   "codemirror_mode": {
    "name": "ipython",
    "version": 3
   },
   "file_extension": ".py",
   "mimetype": "text/x-python",
   "name": "python",
   "nbconvert_exporter": "python",
   "pygments_lexer": "ipython3",
   "version": "3.9.13"
  },
  "vscode": {
   "interpreter": {
    "hash": "371d6667086cfa564ade64a66ea32fd14e0edbe0cd9d013d75417fb1c365b71d"
   }
  }
 },
 "nbformat": 4,
 "nbformat_minor": 2
}
